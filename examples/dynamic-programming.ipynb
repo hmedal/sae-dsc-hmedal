{
 "cells": [
  {
   "cell_type": "markdown",
   "metadata": {
    "slideshow": {
     "slide_type": "slide"
    }
   },
   "source": [
    "# Integrating Product Design and Supply Chain Design"
   ]
  },
  {
   "cell_type": "markdown",
   "metadata": {},
   "source": [
    "## Import Packages"
   ]
  },
  {
   "cell_type": "code",
   "execution_count": 100,
   "metadata": {},
   "outputs": [],
   "source": [
    "import networkx as nx\n",
    "import matplotlib.pyplot as plt\n",
    "import numpy as np\n",
    "import gurobipy as gp\n",
    "from gurobipy import GRB\n",
    "from gurobipy import quicksum as qsum\n",
    "import pandas as pd\n",
    "from pandas import DataFrame, read_csv\n",
    "import random\n",
    "import math\n",
    "\n",
    "import sys\n",
    "sys.path.append('../')\n",
    "import saedfsc"
   ]
  },
  {
   "cell_type": "markdown",
   "metadata": {},
   "source": [
    "## Parameters"
   ]
  },
  {
   "cell_type": "code",
   "execution_count": 101,
   "metadata": {},
   "outputs": [],
   "source": [
    "numAssemblyOptions = 2\n",
    "numSuppliersPerPart = 2"
   ]
  },
  {
   "cell_type": "code",
   "execution_count": 102,
   "metadata": {},
   "outputs": [
    {
     "data": {
      "image/png": "[encoded data removed]",
      "text/plain": [
       "<Figure size 640x480 with 1 Axes>"
      ]
     },
     "metadata": {},
     "output_type": "display_data"
    }
   ],
   "source": [
    "G = nx.DiGraph()\n",
    "\n",
    "numProcureNodes = 2\n",
    "numAssemblyNodes = 0\n",
    "numNodes = numProcureNodes + numAssemblyNodes + 1\n",
    "\n",
    "procureNodes = list(range(numProcureNodes))\n",
    "finalNode = numNodes - 1\n",
    "\n",
    "numOptions = 2\n",
    "\n",
    "np.random.seed(0)\n",
    "\n",
    "maxServiceTimeOut = 20\n",
    "\n",
    "processTimes = [1, 2, 1]\n",
    "costAdded = np.random.randint(1,4, numNodes)\n",
    "\n",
    "G.add_node(finalNode, process_time=processTimes[finalNode], \n",
    "            max_service_time_out=0, cost = costAdded[finalNode])\n",
    "\n",
    "for n in procureNodes:\n",
    "    G.add_node(n, process_time=processTimes[n], \n",
    "               max_service_time_out=20, cost = costAdded[n])\n",
    "    G.add_edge(n, finalNode)\n",
    "\n",
    "processTimesDict = nx.get_node_attributes(G, 'process_time')\n",
    "costDict = nx.get_node_attributes(G, 'cost')\n",
    "maxServiceTimeOut = nx.get_node_attributes(G, 'max_service_time_out')\n",
    "\n",
    "pred = {2 : [1,0]}\n",
    "nx.draw(G, with_labels=True)\n",
    "plt.show()"
   ]
  },
  {
   "cell_type": "code",
   "execution_count": 103,
   "metadata": {},
   "outputs": [],
   "source": [
    "safetyFactor = 1.645\n",
    "sigma = 3\n",
    "holdingCostRate = 0.2"
   ]
  },
  {
   "cell_type": "code",
   "execution_count": 104,
   "metadata": {},
   "outputs": [
    {
     "data": {
      "text/html": [
       "<div>\n",
       "<style scoped>\n",
       "    .dataframe tbody tr th:only-of-type {\n",
       "        vertical-align: middle;\n",
       "    }\n",
       "\n",
       "    .dataframe tbody tr th {\n",
       "        vertical-align: top;\n",
       "    }\n",
       "\n",
       "    .dataframe thead th {\n",
       "        text-align: right;\n",
       "    }\n",
       "</style>\n",
       "<table border=\"1\" class=\"dataframe\">\n",
       "  <thead>\n",
       "    <tr style=\"text-align: right;\">\n",
       "      <th></th>\n",
       "      <th>Node</th>\n",
       "      <th>Process time</th>\n",
       "      <th>Cumulative cost</th>\n",
       "      <th>maxReplenishmentTime</th>\n",
       "    </tr>\n",
       "  </thead>\n",
       "  <tbody>\n",
       "    <tr>\n",
       "      <th>0</th>\n",
       "      <td>0</td>\n",
       "      <td>1</td>\n",
       "      <td>1</td>\n",
       "      <td>1</td>\n",
       "    </tr>\n",
       "    <tr>\n",
       "      <th>1</th>\n",
       "      <td>1</td>\n",
       "      <td>2</td>\n",
       "      <td>2</td>\n",
       "      <td>2</td>\n",
       "    </tr>\n",
       "    <tr>\n",
       "      <th>2</th>\n",
       "      <td>2</td>\n",
       "      <td>1</td>\n",
       "      <td>4</td>\n",
       "      <td>3</td>\n",
       "    </tr>\n",
       "  </tbody>\n",
       "</table>\n",
       "</div>"
      ],
      "text/plain": [
       "   Node  Process time  Cumulative cost  maxReplenishmentTime\n",
       "0     0             1                1                     1\n",
       "1     1             2                2                     2\n",
       "2     2             1                4                     3"
      ]
     },
     "execution_count": 104,
     "metadata": {},
     "output_type": "execute_result"
    }
   ],
   "source": [
    "\n",
    "maxReplenishmentTime = {}\n",
    "\n",
    "for n in procureNodes:\n",
    "    maxReplenishmentTime[n] = processTimesDict[n]\n",
    "\n",
    "maxReplenishmentTime[finalNode] = processTimesDict[finalNode] + max([maxReplenishmentTime[n] for n in procureNodes])\n",
    "\n",
    "cumCost = {}\n",
    "\n",
    "for n in procureNodes:\n",
    "    cumCost[n] = costDict[n]\n",
    "\n",
    "cumCost[finalNode] = costDict[finalNode] + sum(cumCost[n] for n in procureNodes)\n",
    "\n",
    "df = pd.DataFrame({\n",
    "    'Node': maxReplenishmentTime.keys(),\n",
    "    'Process time': processTimes,\n",
    "    'Cumulative cost': cumCost.values(),\n",
    "    'maxReplenishmentTime': maxReplenishmentTime.values()\n",
    "})\n",
    "df"
   ]
  },
  {
   "cell_type": "code",
   "execution_count": 105,
   "metadata": {},
   "outputs": [],
   "source": [
    "\n",
    "def get_sIn_range_for_g_fn(node : int):\n",
    "    maxVal = maxReplenishmentTime[node] - processTimesDict[node]\n",
    "    return range(maxVal + 1)\n",
    "\n",
    "def get_sOut_range_for_g_fn(node : int, sIn : int):\n",
    "    maxVal = sIn + processTimesDict[node]\n",
    "    if node == finalNode:\n",
    "        maxVal = min(maxVal, maxServiceTimeOut[finalNode])\n",
    "    return range(maxVal + 1)\n",
    "\n",
    "def get_sOut_range(node : int, sIn : int = 0):\n",
    "    #maxVal = maxReplenishmentTime[node] - processTimesDict[node]\n",
    "    return range(sIn + processTimesDict[node]+ 1)\n",
    "\n",
    "def getHoldingCost(node : int, sIn : int, sOut : int):\n",
    "    return safetyFactor*sigma*holdingCostRate*cumCost[n]*np.sqrt(sIn + processTimesDict[node] - sOut)\n",
    "\n",
    "def create_dp_graph(G : nx.DiGraph):\n",
    "    nNodes = len(G.nodes())\n",
    "    finalNode = nNodes - 1\n",
    "    dp_G = nx.DiGraph()\n",
    "    dp_G.add_node('t')\n",
    "    for sIn in get_sIn_range_for_g_fn(finalNode):\n",
    "        for sOut in get_sOut_range_for_g_fn(finalNode, sIn):\n",
    "            finalNodeTuple = (finalNode, sIn, sOut)\n",
    "            dp_G.add_node(finalNodeTuple)\n",
    "            dp_G.add_edge(finalNodeTuple, 't', \n",
    "                        cost = getHoldingCost(finalNode, sIn, sOut))\n",
    "            for n in procureNodes:\n",
    "                for sOut in get_sOut_range(n, 0):\n",
    "                    nodeTuple = (n, 0, sOut)\n",
    "                    dp_G.add_node(nodeTuple)\n",
    "            n = 1\n",
    "            for sOut in get_sOut_range(n, 0):\n",
    "                nodeTuple = (n, 0, sOut)\n",
    "                if sOut == sIn:\n",
    "                    dp_G.add_edge(nodeTuple, finalNodeTuple, \n",
    "                                    cost = getHoldingCost(n, 0, sOut))\n",
    "            n = 0\n",
    "            for sOut in get_sOut_range(n, 0):\n",
    "                nodeTuple = (n, 0, sOut)\n",
    "                dp_G.add_edge('s', nodeTuple, cost = getHoldingCost(n, 0, sOut))\n",
    "                for sOut2 in get_sOut_range(n+1, 0):\n",
    "                    if sOut == min(sOut2, maxReplenishmentTime[n]):\n",
    "                        nodeTuple2 = (n+1, 0, sOut2)\n",
    "                        dp_G.add_edge(nodeTuple, nodeTuple2, cost = getHoldingCost(n+1, 0, sOut2))\n",
    "                \n",
    "\n",
    "\n",
    "    return dp_G"
   ]
  },
  {
   "cell_type": "code",
   "execution_count": 106,
   "metadata": {},
   "outputs": [
    {
     "data": {
      "image/png": "[encoded data removed]",
      "text/plain": [
       "<Figure size 640x480 with 1 Axes>"
      ]
     },
     "metadata": {},
     "output_type": "display_data"
    }
   ],
   "source": [
    "dp_G = create_dp_graph(G)\n",
    "\n",
    "pos = nx.circular_layout(dp_G)\n",
    "nx.draw(dp_G, pos, with_labels=True)\n",
    "edge_labels = nx.get_edge_attributes(dp_G, 'cost')\n",
    "edge_labels = {k: round(v, 2) for k, v in edge_labels.items()}\n",
    "nx.draw_networkx_edge_labels(G, pos, edge_labels=edge_labels)\n",
    "plt.show()"
   ]
  },
  {
   "cell_type": "code",
   "execution_count": 113,
   "metadata": {},
   "outputs": [
    {
     "name": "stdout",
     "output_type": "stream",
     "text": [
      "Total cost 3.419068294140964\n",
      "['s', (0, 0, 1), (1, 0, 2), (2, 2, 0), 't']\n"
     ]
    },
    {
     "data": {
      "text/html": [
       "<div>\n",
       "<style scoped>\n",
       "    .dataframe tbody tr th:only-of-type {\n",
       "        vertical-align: middle;\n",
       "    }\n",
       "\n",
       "    .dataframe tbody tr th {\n",
       "        vertical-align: top;\n",
       "    }\n",
       "\n",
       "    .dataframe thead th {\n",
       "        text-align: right;\n",
       "    }\n",
       "</style>\n",
       "<table border=\"1\" class=\"dataframe\">\n",
       "  <thead>\n",
       "    <tr style=\"text-align: right;\">\n",
       "      <th></th>\n",
       "      <th>Node</th>\n",
       "      <th>Process time</th>\n",
       "      <th>Cumulative cost</th>\n",
       "      <th>maxReplenishmentTime</th>\n",
       "      <th>Service time in</th>\n",
       "      <th>Service time out</th>\n",
       "    </tr>\n",
       "  </thead>\n",
       "  <tbody>\n",
       "    <tr>\n",
       "      <th>0</th>\n",
       "      <td>0</td>\n",
       "      <td>1</td>\n",
       "      <td>1</td>\n",
       "      <td>1</td>\n",
       "      <td>0</td>\n",
       "      <td>1</td>\n",
       "    </tr>\n",
       "    <tr>\n",
       "      <th>1</th>\n",
       "      <td>1</td>\n",
       "      <td>2</td>\n",
       "      <td>2</td>\n",
       "      <td>2</td>\n",
       "      <td>0</td>\n",
       "      <td>2</td>\n",
       "    </tr>\n",
       "    <tr>\n",
       "      <th>2</th>\n",
       "      <td>2</td>\n",
       "      <td>1</td>\n",
       "      <td>4</td>\n",
       "      <td>3</td>\n",
       "      <td>2</td>\n",
       "      <td>0</td>\n",
       "    </tr>\n",
       "  </tbody>\n",
       "</table>\n",
       "</div>"
      ],
      "text/plain": [
       "   Node  Process time  Cumulative cost  maxReplenishmentTime  Service time in  \\\n",
       "0     0             1                1                     1                0   \n",
       "1     1             2                2                     2                0   \n",
       "2     2             1                4                     3                2   \n",
       "\n",
       "   Service time out  \n",
       "0                 1  \n",
       "1                 2  \n",
       "2                 0  "
      ]
     },
     "execution_count": 113,
     "metadata": {},
     "output_type": "execute_result"
    }
   ],
   "source": [
    "start_node = 's'  # replace with your start node\n",
    "end_node = 't'  # replace with your end node\n",
    "\n",
    "path = nx.shortest_path(dp_G, start_node, end_node, weight='cost')\n",
    "path_length = nx.shortest_path_length(dp_G, start_node, end_node, weight='cost')\n",
    "print(\"Total cost\", path_length)\n",
    "print(path)\n",
    "\n",
    "def getServiceTimeIn(node : int, path : list):\n",
    "    if node in procureNodes:\n",
    "        return 0\n",
    "    else:\n",
    "        for sIn in range(0,3):\n",
    "            if (node, sIn, 0) in path:\n",
    "                return sIn\n",
    "            \n",
    "def getServiceTimeOut(node : int, path : list):\n",
    "    if node == finalNode:\n",
    "        return 0\n",
    "    else:\n",
    "        for sOut in range(0,3):\n",
    "            if (node, 0, sOut) in path:\n",
    "                return sOut\n",
    "\n",
    "\n",
    "df = pd.DataFrame({\n",
    "    'Node': maxReplenishmentTime.keys(),\n",
    "    'Process time': processTimes,\n",
    "    'Cumulative cost': cumCost.values(),\n",
    "    'maxReplenishmentTime': maxReplenishmentTime.values(),\n",
    "    'Service time in': [getServiceTimeIn(node, path) for node in range(0,3)],\n",
    "    'Service time out': [getServiceTimeOut(node, path) for node in range(0,3)]\n",
    "})\n",
    "df"
   ]
  },
  {
   "cell_type": "code",
   "execution_count": null,
   "metadata": {},
   "outputs": [],
   "source": [
    "# def isFeasibleForNode(node : int, sIn : int, sOut : int):\n",
    "#     if sIn + processTimesDict[node] - sOut >= 0:\n",
    "#         return True\n",
    "#     else:\n",
    "#         return False\n",
    "\n",
    "# m = gp.Model(\"Network\")\n",
    "\n",
    "# z = m.addVar(name = \"final\")\n",
    "\n",
    "# x = m.addVars([finalNode], get_sIn_range_for_g_fn(finalNode), [0], name = \"x\")\n",
    "# y = m.addVars(procureNodes, get_sIn_range_for_g_fn(finalNode), name = \"y\")\n",
    "\n",
    "# m.update()\n",
    "# print(x)\n",
    "# print(y)\n",
    "\n",
    "# m.addConstrs((z <= x[finalNode, sIn, 0] for sIn in get_sIn_range_for_g_fn(finalNode)), \n",
    "#               name = \"lastMin\")\n",
    "\n",
    "# m.addConstrs((x[finalNode, sIn, 0] == getHoldingCost(finalNode, sIn, 0) + qsum(y[n,sIn] for n in pred[finalNode])\n",
    "#               for sIn in get_sIn_range_for_g_fn(finalNode) if isFeasibleForNode(n, 0, sIn)), \n",
    "#              name = \"sum\")\n",
    "\n",
    "# for n in procureNodes:\n",
    "#     for sIn in get_sIn_range_for_g_fn(finalNode):\n",
    "#         if isFeasibleForNode(n, 0, sIn):\n",
    "#             print(n, sIn, getHoldingCost(n, 0, sIn) )\n",
    "        \n",
    "# m.addConstrs((y[n, sIn] == getHoldingCost(n, 0, sIn) \n",
    "#               for sIn in get_sIn_range_for_g_fn(finalNode) \n",
    "#               for n in procureNodes if isFeasibleForNode(n, 0, sIn)))\n",
    "\n",
    "# m.setObjective(z, GRB.MINIMIZE)\n",
    "# m.optimize()\n",
    "\n",
    "# for v in m.getVars():\n",
    "#     print(v.varName, v.X)"
   ]
  }
 ],
 "metadata": {
  "celltoolbar": "Slideshow",
  "kernelspec": {
   "display_name": "Python 3 (ipykernel)",
   "language": "python",
   "name": "python3"
  },
  "language_info": {
   "codemirror_mode": {
    "name": "ipython",
    "version": 3
   },
   "file_extension": ".py",
   "mimetype": "text/x-python",
   "name": "python",
   "nbconvert_exporter": "python",
   "pygments_lexer": "ipython3",
   "version": "3.9.1"
  }
 },
 "nbformat": 4,
 "nbformat_minor": 4
}
